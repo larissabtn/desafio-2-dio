{
  "nbformat": 4,
  "nbformat_minor": 0,
  "metadata": {
    "colab": {
      "provenance": [],
      "include_colab_link": true
    },
    "kernelspec": {
      "name": "python3",
      "display_name": "Python 3"
    },
    "language_info": {
      "name": "python"
    }
  },
  "cells": [
    {
      "cell_type": "markdown",
      "metadata": {
        "id": "view-in-github",
        "colab_type": "text"
      },
      "source": [
        "<a href=\"https://colab.research.google.com/github/larissabtn/desafio-2-dio/blob/main/Desafio_autoria_LARISSABTN_de_SantanderBootcamp.ipynb\" target=\"_parent\"><img src=\"https://colab.research.google.com/assets/colab-badge.svg\" alt=\"Open In Colab\"/></a>"
      ]
    },
    {
      "cell_type": "markdown",
      "source": [
        "# Santander Dev Week 2023 (ETL com Python)"
      ],
      "metadata": {
        "id": "BPJQsTCULaC-"
      }
    },
    {
      "cell_type": "markdown",
      "source": [
        "**Contexto:** Você é um cientista de dados no Santander e recebeu a tarefa de envolver seus clientes de maneira mais personalizada. Seu objetivo é usar o poder da IA Generativa para criar mensagens de marketing personalizadas que serão entregues a cada cliente.\n",
        "\n",
        "**Condições do Problema:**\n",
        "\n",
        "1. Você recebeu uma planilha simples, em formato CSV ('SDW2023.csv'), com uma lista de IDs de usuário do banco:\n",
        "  ```\n",
        "  UserID\n",
        "  1\n",
        "  2\n",
        "  3\n",
        "  4\n",
        "  5\n",
        "  ```\n",
        "2. Seu trabalho é consumir o endpoint `GET https://sdw-2023-prd.up.railway.app/users/{id}` (API da Santander Dev Week 2023) para obter os dados de cada cliente.\n",
        "3. Depois de obter os dados dos clientes, você vai usar a API do ChatGPT (OpenAI) para gerar uma mensagem de marketing personalizada para cada cliente. Essa mensagem deve enfatizar a importância dos investimentos.\n",
        "4. Uma vez que a mensagem para cada cliente esteja pronta, você vai enviar essas informações de volta para a API, atualizando a lista de \"news\" de cada usuário usando o endpoint `PUT https://sdw-2023-prd.up.railway.app/users/{id}`.\n",
        "\n"
      ],
      "metadata": {
        "id": "k5fA5OrXt1a3"
      }
    },
    {
      "cell_type": "code",
      "source": [
        "# Utilize sua própria URL se quiser ;)\n",
        "# Repositório da API: https://github.com/digitalinnovationone/santander-dev-week-2023-api\n",
        "sdw2023_api_url = 'https://sdw-2023-prd.up.railway.app'"
      ],
      "metadata": {
        "id": "FKqLC_CWoYqR"
      },
      "execution_count": 1,
      "outputs": []
    },
    {
      "cell_type": "markdown",
      "source": [
        "## **E**xtract\n",
        "\n",
        "Extraia a lista de IDs de usuário a partir do arquivo CSV. Para cada ID, faça uma requisição GET para obter os dados do usuário correspondente."
      ],
      "metadata": {
        "id": "9dfI-o7gLRq9"
      }
    },
    {
      "cell_type": "code",
      "execution_count": 2,
      "metadata": {
        "id": "NYydpX_GLRCB",
        "outputId": "b031d19d-c055-4a69-b05b-64ff077e1a31",
        "colab": {
          "base_uri": "https://localhost:8080/"
        }
      },
      "outputs": [
        {
          "output_type": "stream",
          "name": "stdout",
          "text": [
            "[3334, 3335, 3368]\n"
          ]
        }
      ],
      "source": [
        "import pandas as pd\n",
        "\n",
        "df = pd.read_csv('SDW2023.csv')\n",
        "user_ids = df['UserID'].tolist()\n",
        "print(user_ids)"
      ]
    },
    {
      "cell_type": "code",
      "source": [
        "import requests\n",
        "import json\n",
        "\n",
        "def get_user(id):\n",
        "  response = requests.get(f'{sdw2023_api_url}/users/{id}')\n",
        "  return response.json() if response.status_code == 200 else None\n",
        "\n",
        "users = [user for id in user_ids if (user := get_user(id)) is not None]\n",
        "print(json.dumps(users, indent=2))"
      ],
      "metadata": {
        "id": "F5XOuCZGSTGw",
        "colab": {
          "base_uri": "https://localhost:8080/"
        },
        "outputId": "e885a776-6210-41fc-adea-6e4f3ab1a1db"
      },
      "execution_count": 3,
      "outputs": [
        {
          "output_type": "stream",
          "name": "stdout",
          "text": [
            "[\n",
            "  {\n",
            "    \"id\": 3334,\n",
            "    \"name\": \"Marcos\",\n",
            "    \"account\": {\n",
            "      \"id\": 3538,\n",
            "      \"number\": \"00003-1\",\n",
            "      \"agency\": \"0001\",\n",
            "      \"balance\": 0.0,\n",
            "      \"limit\": 2000.0\n",
            "    },\n",
            "    \"card\": {\n",
            "      \"id\": 3228,\n",
            "      \"number\": \"**** **** **** 1236\",\n",
            "      \"limit\": 2000.0\n",
            "    },\n",
            "    \"features\": [\n",
            "      {\n",
            "        \"id\": 1030,\n",
            "        \"icon\": \"string\",\n",
            "        \"description\": \"string\"\n",
            "      }\n",
            "    ],\n",
            "    \"news\": [\n",
            "      {\n",
            "        \"id\": 6773,\n",
            "        \"icon\": \"string\",\n",
            "        \"description\": \"string\"\n",
            "      },\n",
            "      {\n",
            "        \"id\": 7176,\n",
            "        \"icon\": \"https://raw.githubusercontent.com/digitalinnovationone/santander-dev-week-2023-api/665804c8231b32923b03b30ab832ccee33cf2cc3/docs/icons/account.svg\",\n",
            "        \"description\": \"Maximize seu potencial financeiro e conquiste seus objetivos atrav\\u00e9s dos investimentos. Seu futuro come\\u00e7a agora! \\ud83d\\udcb0\\ud83d\\udcc8 #invista\"\n",
            "      },\n",
            "      {\n",
            "        \"id\": 7177,\n",
            "        \"icon\": \"https://raw.githubusercontent.com/digitalinnovationone/santander-dev-week-2023-api/665804c8231b32923b03b30ab832ccee33cf2cc3/docs/icons/credit.svg\",\n",
            "        \"description\": \"Invista no seu futuro com seguran\\u00e7a e rentabilidade: aproveite seu limite de R$2000 e fa\\u00e7a seu dinheiro trabalhar por voc\\u00ea. #Investimentos\"\n",
            "      },\n",
            "      {\n",
            "        \"id\": 7178,\n",
            "        \"icon\": \"https://raw.githubusercontent.com/digitalinnovationone/santander-dev-week-2023-api/665804c8231b32923b03b30ab832ccee33cf2cc3/docs/icons/credit.svg\",\n",
            "        \"description\": \"Invista para garantir seu futuro financeiro: com at\\u00e9 R$2000, voc\\u00ea j\\u00e1 pode come\\u00e7ar a construir seu patrim\\u00f4nio. Aproveite!\"\n",
            "      },\n",
            "      {\n",
            "        \"id\": 131,\n",
            "        \"icon\": \"https://raw.githubusercontent.com/digitalinnovationone/santander-dev-week-2023-api/665804c8231b32923b03b30ab832ccee33cf2cc3/docs/icons/credit.svg\",\n",
            "        \"description\": \"Marcos, invista em seu futuro! Com apenas R$2.000, voc\\u00ea pode come\\u00e7ar a construir seu patrim\\u00f4nio e alcan\\u00e7ar seus objetivos financeiros. #Investimentos\"\n",
            "      },\n",
            "      {\n",
            "        \"id\": 7179,\n",
            "        \"icon\": \"https://raw.githubusercontent.com/digitalinnovationone/santander-dev-week-2023-api/665804c8231b32923b03b30ab832ccee33cf2cc3/docs/icons/credit.svg\",\n",
            "        \"description\": \"Invista j\\u00e1! Com apenas R$1000! Seu dinheiro pode render e garantir um futuro financeiro mais est\\u00e1vel. N\\u00e3o perca tempo! #Investimentos #FuturoFinanceiro\"\n",
            "      },\n",
            "      {\n",
            "        \"id\": 7180,\n",
            "        \"icon\": \"https://raw.githubusercontent.com/digitalinnovationone/santander-dev-week-2023-api/665804c8231b32923b03b30ab832ccee33cf2cc3/docs/icons/credit.svg\",\n",
            "        \"description\": \"Invista hoje e garanta um futuro financeiro s\\u00f3lido! Aproveite seu limite de R$2000.0 e comece a construir sua prosperidade.\"\n",
            "      },\n",
            "      {\n",
            "        \"id\": 7186,\n",
            "        \"icon\": \"https://raw.githubusercontent.com/digitalinnovationone/santander-dev-week-2023-api/665804c8231b32923b03b30ab832ccee33cf2cc3/docs/icons/credit.svg\",\n",
            "        \"description\": \"Invista agora e colha os frutos no futuro. Valor m\\u00e1ximo de R$ 2.000, aproveite! #Investimentos #PlanejamentoFinanceiro\"\n",
            "      },\n",
            "      {\n",
            "        \"id\": 7187,\n",
            "        \"icon\": \"https://raw.githubusercontent.com/digitalinnovationone/santander-dev-week-2023-api/665804c8231b32923b03b30ab832ccee33cf2cc3/docs/icons/credit.svg\",\n",
            "        \"description\": \"Invista com intelig\\u00eancia e seguran\\u00e7a! Seu futuro financeiro depende disso. #Investimentos #PlanejamentoFinanceiro\"\n",
            "      },\n",
            "      {\n",
            "        \"id\": 7188,\n",
            "        \"icon\": \"https://raw.githubusercontent.com/digitalinnovationone/santander-dev-week-2023-api/665804c8231b32923b03b30ab832ccee33cf2cc3/docs/icons/credit.svg\",\n",
            "        \"description\": \"Invista em seu futuro com sabedoria e comece a construir seu patrim\\u00f4nio hoje. Seu limite de R$2000 \\u00e9 o ponto de partida para conquistar seus objetivos.\"\n",
            "      },\n",
            "      {\n",
            "        \"id\": 7189,\n",
            "        \"icon\": \"https://raw.githubusercontent.com/digitalinnovationone/santander-dev-week-2023-api/665804c8231b32923b03b30ab832ccee33cf2cc3/docs/icons/credit.svg\",\n",
            "        \"description\": \"Invista no seu futuro e fa\\u00e7a seu dinheiro render mais. Descubra as melhores op\\u00e7\\u00f5es para seus 2000 reais. #Investimentos\"\n",
            "      },\n",
            "      {\n",
            "        \"id\": 7190,\n",
            "        \"icon\": \"https://raw.githubusercontent.com/digitalinnovationone/santander-dev-week-2023-api/665804c8231b32923b03b30ab832ccee33cf2cc3/docs/icons/credit.svg\",\n",
            "        \"description\": \"Invista no seu futuro financeiro! Com apenas R$2000.0, voc\\u00ea pode potencializar seus ganhos e conquistar seus objetivos. N\\u00e3o perca essa oportunidade!\"\n",
            "      },\n",
            "      {\n",
            "        \"id\": 7731,\n",
            "        \"icon\": \"https://digitalinnovationone.github.io/santander-dev-week-2023-api/icons/pay.svg\",\n",
            "        \"description\": \"\\\"Invista seu dinheiro e garanta seu futuro financeiro. Conte com o Santander!\\\"\"\n",
            "      },\n",
            "      {\n",
            "        \"id\": 7732,\n",
            "        \"icon\": \"https://digitalinnovationone.github.io/santander-dev-week-2023-api/icons/pay.svg\",\n",
            "        \"description\": \"Invista no seu futuro com o Santander.\"\n",
            "      }\n",
            "    ]\n",
            "  },\n",
            "  {\n",
            "    \"id\": 3335,\n",
            "    \"name\": \"Jo\\u00e3o\",\n",
            "    \"account\": {\n",
            "      \"id\": 3539,\n",
            "      \"number\": \"00004-1\",\n",
            "      \"agency\": \"0001\",\n",
            "      \"balance\": 0.0,\n",
            "      \"limit\": 2200.0\n",
            "    },\n",
            "    \"card\": {\n",
            "      \"id\": 3229,\n",
            "      \"number\": \"**** **** **** 1237\",\n",
            "      \"limit\": 2200.0\n",
            "    },\n",
            "    \"features\": [\n",
            "      {\n",
            "        \"id\": 1031,\n",
            "        \"icon\": \"string\",\n",
            "        \"description\": \"string\"\n",
            "      }\n",
            "    ],\n",
            "    \"news\": [\n",
            "      {\n",
            "        \"id\": 6774,\n",
            "        \"icon\": \"string\",\n",
            "        \"description\": \"string\"\n",
            "      },\n",
            "      {\n",
            "        \"id\": 7163,\n",
            "        \"icon\": \"https://raw.githubusercontent.com/digitalinnovationone/santander-dev-week-2023-api/665804c8231b32923b03b30ab832ccee33cf2cc3/docs/icons/account.svg\",\n",
            "        \"description\": \"Jo\\u00e3o, seus investimentos podem transformar seus sonhos em realidade. Aproveite essa oportunidade \\u00fanica! #invistaagora\"\n",
            "      },\n",
            "      {\n",
            "        \"id\": 7164,\n",
            "        \"icon\": \"https://raw.githubusercontent.com/digitalinnovationone/santander-dev-week-2023-api/665804c8231b32923b03b30ab832ccee33cf2cc3/docs/icons/credit.svg\",\n",
            "        \"description\": \"Jo\\u00e3o, invista seu dinheiro e aproveite os benef\\u00edcios dos rendimentos. N\\u00e3o deixe seus recursos parados. #InvistaAgora\"\n",
            "      },\n",
            "      {\n",
            "        \"id\": 7191,\n",
            "        \"icon\": \"https://raw.githubusercontent.com/digitalinnovationone/santander-dev-week-2023-api/665804c8231b32923b03b30ab832ccee33cf2cc3/docs/icons/credit.svg\",\n",
            "        \"description\": \"Invista de forma inteligente e diversificada para garantir seu futuro financeiro. Aproveite o potencial dos seus 2200 reais! #Investimentos\"\n",
            "      },\n",
            "      {\n",
            "        \"id\": 7192,\n",
            "        \"icon\": \"https://raw.githubusercontent.com/digitalinnovationone/santander-dev-week-2023-api/665804c8231b32923b03b30ab832ccee33cf2cc3/docs/icons/credit.svg\",\n",
            "        \"description\": \"Invista para conquistar seus objetivos financeiros e aproveite ao m\\u00e1ximo o seu limite de R$2200.0. Conte com nosso suporte!\"\n",
            "      },\n",
            "      {\n",
            "        \"id\": 7193,\n",
            "        \"icon\": \"https://raw.githubusercontent.com/digitalinnovationone/santander-dev-week-2023-api/665804c8231b32923b03b30ab832ccee33cf2cc3/docs/icons/credit.svg\",\n",
            "        \"description\": \"Invista seu dinheiro com sabedoria e veja seu patrim\\u00f4nio crescer. Aproveite seu limite de R$2200 e garanta seu futuro financeiro.\"\n",
            "      },\n",
            "      {\n",
            "        \"id\": 7194,\n",
            "        \"icon\": \"https://raw.githubusercontent.com/digitalinnovationone/santander-dev-week-2023-api/665804c8231b32923b03b30ab832ccee33cf2cc3/docs/icons/credit.svg\",\n",
            "        \"description\": \"Invista agora para garantir seu futuro financeiro. Seu potencial de ganho \\u00e9 ilimitado!\"\n",
            "      },\n",
            "      {\n",
            "        \"id\": 7195,\n",
            "        \"icon\": \"https://raw.githubusercontent.com/digitalinnovationone/santander-dev-week-2023-api/665804c8231b32923b03b30ab832ccee33cf2cc3/docs/icons/credit.svg\",\n",
            "        \"description\": \"Jo\\u00e3o, invista agora para garantir seu futuro financeiro. Aproveite o limite de R$2200.0 dispon\\u00edvel!\"\n",
            "      },\n",
            "      {\n",
            "        \"id\": 7733,\n",
            "        \"icon\": \"https://digitalinnovationone.github.io/santander-dev-week-2023-api/icons/pay.svg\",\n",
            "        \"description\": \"\\\"Invista hoje e prepare um futuro financeiramente seguro. Conte com o Santander para te auxiliar nessa jornada.\\\"\"\n",
            "      },\n",
            "      {\n",
            "        \"id\": 7734,\n",
            "        \"icon\": \"https://digitalinnovationone.github.io/santander-dev-week-2023-api/icons/pay.svg\",\n",
            "        \"description\": \"\\\"Invista no seu futuro, Jo\\u00e3o. Conte com o Santander para fazer seu dinheiro crescer!\\\"\"\n",
            "      }\n",
            "    ]\n",
            "  },\n",
            "  {\n",
            "    \"id\": 3368,\n",
            "    \"name\": \"Alfonso\",\n",
            "    \"account\": {\n",
            "      \"id\": 3578,\n",
            "      \"number\": \"12001-1\",\n",
            "      \"agency\": \"0001\",\n",
            "      \"balance\": 0.0,\n",
            "      \"limit\": 1200.0\n",
            "    },\n",
            "    \"card\": {\n",
            "      \"id\": 3264,\n",
            "      \"number\": \"**** **** **** 1851\",\n",
            "      \"limit\": 2000.0\n",
            "    },\n",
            "    \"features\": [],\n",
            "    \"news\": [\n",
            "      {\n",
            "        \"id\": 7654,\n",
            "        \"icon\": \"https://digitalinnovationone.github.io/santander-dev-week-2023-api/icons/pix.svg\",\n",
            "        \"description\": \"Invista Agora mesmo!\"\n",
            "      },\n",
            "      {\n",
            "        \"id\": 7655,\n",
            "        \"icon\": \"https://digitalinnovationone.github.io/santander-dev-week-2023-api/icons/pix.svg\",\n",
            "        \"description\": \"Pense em seu futuro de investimento\"\n",
            "      },\n",
            "      {\n",
            "        \"id\": 7656,\n",
            "        \"icon\": \"https://digitalinnovationone.github.io/santander-dev-week-2023-api/icons/pix.svg\",\n",
            "        \"description\": \"Diversifique sua carteira\"\n",
            "      },\n",
            "      {\n",
            "        \"id\": 7657,\n",
            "        \"icon\": \"https://digitalinnovationone.github.io/santander-dev-week-2023-api/icons/pix.svg\",\n",
            "        \"description\": \"Invista Agora mesmo!\"\n",
            "      },\n",
            "      {\n",
            "        \"id\": 7658,\n",
            "        \"icon\": \"https://digitalinnovationone.github.io/santander-dev-week-2023-api/icons/pix.svg\",\n",
            "        \"description\": \"Invista Agora mesmo!\"\n",
            "      },\n",
            "      {\n",
            "        \"id\": 7659,\n",
            "        \"icon\": \"https://digitalinnovationone.github.io/santander-dev-week-2023-api/icons/pix.svg\",\n",
            "        \"description\": \"Pense em seu futuro de investimento\"\n",
            "      },\n",
            "      {\n",
            "        \"id\": 7660,\n",
            "        \"icon\": \"https://digitalinnovationone.github.io/santander-dev-week-2023-api/icons/pix.svg\",\n",
            "        \"description\": \"Diversifique sua carteira\"\n",
            "      },\n",
            "      {\n",
            "        \"id\": 7735,\n",
            "        \"icon\": \"https://digitalinnovationone.github.io/santander-dev-week-2023-api/icons/pay.svg\",\n",
            "        \"description\": \"Invista para garantir seu futuro financeiro!\"\n",
            "      },\n",
            "      {\n",
            "        \"id\": 7736,\n",
            "        \"icon\": \"https://digitalinnovationone.github.io/santander-dev-week-2023-api/icons/pay.svg\",\n",
            "        \"description\": \"\\\"Invista no seu futuro e garanta sua seguran\\u00e7a financeira! Santander est\\u00e1 aqui para te ajudar.\\\"\"\n",
            "      }\n",
            "    ]\n",
            "  }\n",
            "]\n"
          ]
        }
      ]
    },
    {
      "cell_type": "markdown",
      "source": [
        "## **T**ransform\n",
        "\n",
        "Utilize a API do OpenAI GPT-4 para gerar uma mensagem de marketing personalizada para cada usuário."
      ],
      "metadata": {
        "id": "cWoqInB4TF1x"
      }
    },
    {
      "cell_type": "code",
      "source": [
        "def get_motivational_messages(user):\n",
        "  df = pd.read_csv('SDW2023.csv')\n",
        "  messages = df['Message'].tolist()\n",
        "\n",
        "  return messages\n",
        "\n",
        "\n",
        "for index, user in enumerate(users):\n",
        "  messages = get_motivational_messages(user)\n",
        "  message = messages[index]\n",
        "\n",
        "  print(message)\n",
        "  user['news'].append({\n",
        "      \"icon\": \"https://digitalinnovationone.github.io/santander-dev-week-2023-api/icons/credit.svg\",\n",
        "      \"description\": message\n",
        "  })"
      ],
      "metadata": {
        "id": "n1w78kNxTrZY",
        "colab": {
          "base_uri": "https://localhost:8080/"
        },
        "outputId": "a01b7096-bc34-4802-d32f-41f001f962e2"
      },
      "execution_count": 5,
      "outputs": [
        {
          "output_type": "stream",
          "name": "stdout",
          "text": [
            "Investimentos são legais\n",
            "Investimentos são maneiros\n",
            "Investimentos são cool\n"
          ]
        }
      ]
    },
    {
      "cell_type": "markdown",
      "source": [
        "## **L**oad\n",
        "\n",
        "Atualize a lista de \"news\" de cada usuário na API com a nova mensagem gerada."
      ],
      "metadata": {
        "id": "kNuP0SDUZMBY"
      }
    },
    {
      "cell_type": "code",
      "source": [
        "def update_user(user):\n",
        "  response = requests.put(f\"{sdw2023_api_url}/users/{user['id']}\", json=user)\n",
        "  return True if response.status_code == 200 else False\n",
        "\n",
        "for user in users:\n",
        "  success = update_user(user)\n",
        "  print(f\"User {user['name']} updated? {success}!\")"
      ],
      "metadata": {
        "id": "YefWfYBoZMN2",
        "colab": {
          "base_uri": "https://localhost:8080/"
        },
        "outputId": "15b6eae6-8fd0-4ffd-89e6-ab74c1fb7d70"
      },
      "execution_count": 6,
      "outputs": [
        {
          "output_type": "stream",
          "name": "stdout",
          "text": [
            "User Marcos updated? True!\n",
            "User João updated? True!\n",
            "User Alfonso updated? True!\n"
          ]
        }
      ]
    }
  ]
}